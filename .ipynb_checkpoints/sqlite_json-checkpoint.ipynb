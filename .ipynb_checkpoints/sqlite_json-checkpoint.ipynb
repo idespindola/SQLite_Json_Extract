{
 "cells": [
  {
   "cell_type": "code",
   "execution_count": 1,
   "metadata": {},
   "outputs": [],
   "source": [
    "import requests\n",
    "countries_api_res = requests.get('http://api.worldbank.org/countries?format=json&per_page=100')\n",
    "countries = countries_api_res.json()[1]"
   ]
  },
  {
   "cell_type": "code",
   "execution_count": 2,
   "metadata": {},
   "outputs": [
    {
     "name": "stdout",
     "output_type": "stream",
     "text": [
      "100\n"
     ]
    }
   ],
   "source": [
    "print(len(countries))"
   ]
  },
  {
   "cell_type": "code",
   "execution_count": 3,
   "metadata": {},
   "outputs": [
    {
     "name": "stdout",
     "output_type": "stream",
     "text": [
      "{'adminregion': {'id': '', 'value': ''},\n",
      " 'capitalCity': 'Oranjestad',\n",
      " 'id': 'ABW',\n",
      " 'incomeLevel': {'id': 'HIC', 'value': 'High income'},\n",
      " 'iso2Code': 'AW',\n",
      " 'latitude': '12.5167',\n",
      " 'lendingType': {'id': 'LNX', 'value': 'Not classified'},\n",
      " 'longitude': '-70.0167',\n",
      " 'name': 'Aruba',\n",
      " 'region': {'id': 'LCN', 'value': 'Latin America & Caribbean '}}\n"
     ]
    }
   ],
   "source": [
    "import pprint\n",
    "pprint.pprint(countries[0])"
   ]
  },
  {
   "cell_type": "code",
   "execution_count": 4,
   "metadata": {},
   "outputs": [
    {
     "data": {
      "text/plain": [
       "<sqlite3.Cursor at 0x1a134641f80>"
      ]
     },
     "execution_count": 4,
     "metadata": {},
     "output_type": "execute_result"
    }
   ],
   "source": [
    "import sqlite3\n",
    "conn = sqlite3.connect('banco_teste.db')\n",
    "c = conn.cursor()\n",
    "c.execute(\"CREATE TABLE countries (id varchar(3), data json)\")"
   ]
  },
  {
   "cell_type": "code",
   "execution_count": 5,
   "metadata": {},
   "outputs": [],
   "source": [
    "import json\n",
    "for country in countries:\n",
    "    c.execute(\"insert into countries values (?, ?)\",\n",
    "    [country['id'], json.dumps(country)])\n",
    "    conn.commit()\n",
    "conn.close()"
   ]
  },
  {
   "cell_type": "code",
   "execution_count": 6,
   "metadata": {},
   "outputs": [
    {
     "data": {
      "text/html": [
       "<div>\n",
       "<style scoped>\n",
       "    .dataframe tbody tr th:only-of-type {\n",
       "        vertical-align: middle;\n",
       "    }\n",
       "\n",
       "    .dataframe tbody tr th {\n",
       "        vertical-align: top;\n",
       "    }\n",
       "\n",
       "    .dataframe thead th {\n",
       "        text-align: right;\n",
       "    }\n",
       "</style>\n",
       "<table border=\"1\" class=\"dataframe\">\n",
       "  <thead>\n",
       "    <tr style=\"text-align: right;\">\n",
       "      <th></th>\n",
       "      <th>name</th>\n",
       "    </tr>\n",
       "  </thead>\n",
       "  <tbody>\n",
       "    <tr>\n",
       "      <th>0</th>\n",
       "      <td>Aruba</td>\n",
       "    </tr>\n",
       "    <tr>\n",
       "      <th>1</th>\n",
       "      <td>Afghanistan</td>\n",
       "    </tr>\n",
       "    <tr>\n",
       "      <th>2</th>\n",
       "      <td>Africa</td>\n",
       "    </tr>\n",
       "    <tr>\n",
       "      <th>3</th>\n",
       "      <td>Angola</td>\n",
       "    </tr>\n",
       "    <tr>\n",
       "      <th>4</th>\n",
       "      <td>Albania</td>\n",
       "    </tr>\n",
       "  </tbody>\n",
       "</table>\n",
       "</div>"
      ],
      "text/plain": [
       "          name\n",
       "0        Aruba\n",
       "1  Afghanistan\n",
       "2       Africa\n",
       "3       Angola\n",
       "4      Albania"
      ]
     },
     "execution_count": 6,
     "metadata": {},
     "output_type": "execute_result"
    }
   ],
   "source": [
    "import sqlite3\n",
    "import pandas as pd\n",
    "connection = sqlite3.connect('banco_teste.db')\n",
    "countries = pd.read_sql_query(\"\"\"select json_extract(data, '$.name') as name\n",
    "                              from countries\"\"\", connection)\n",
    "connection.close()\n",
    "countries.head()"
   ]
  },
  {
   "cell_type": "code",
   "execution_count": null,
   "metadata": {},
   "outputs": [],
   "source": [
    "'''\n",
    "Caso não funcione Download \"Precompiled Binaries for Windows\" (https://www.sqlite.org/download.html)\n",
    "Substitua o sqlite3.dll no pacote sqlite3\n",
    "''''''"
   ]
  }
 ],
 "metadata": {
  "kernelspec": {
   "display_name": "Python 3",
   "language": "python",
   "name": "python3"
  },
  "language_info": {
   "codemirror_mode": {
    "name": "ipython",
    "version": 3
   },
   "file_extension": ".py",
   "mimetype": "text/x-python",
   "name": "python",
   "nbconvert_exporter": "python",
   "pygments_lexer": "ipython3",
   "version": "3.7.3"
  }
 },
 "nbformat": 4,
 "nbformat_minor": 2
}
